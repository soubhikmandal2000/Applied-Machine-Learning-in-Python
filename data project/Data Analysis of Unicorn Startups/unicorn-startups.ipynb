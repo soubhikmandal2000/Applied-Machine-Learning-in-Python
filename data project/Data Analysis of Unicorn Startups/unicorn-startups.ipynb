{
 "cells": [
  {
   "cell_type": "code",
   "execution_count": 1,
   "id": "97984bd8",
   "metadata": {
    "_cell_guid": "b1076dfc-b9ad-4769-8c92-a6c4dae69d19",
    "_uuid": "8f2839f25d086af736a60e9eeb907d3b93b6e0e5",
    "execution": {
     "iopub.execute_input": "2021-12-16T10:44:26.216510Z",
     "iopub.status.busy": "2021-12-16T10:44:26.214710Z",
     "iopub.status.idle": "2021-12-16T10:44:26.243048Z",
     "shell.execute_reply": "2021-12-16T10:44:26.243524Z",
     "shell.execute_reply.started": "2021-12-16T10:41:29.408511Z"
    },
    "papermill": {
     "duration": 0.059394,
     "end_time": "2021-12-16T10:44:26.243854",
     "exception": false,
     "start_time": "2021-12-16T10:44:26.184460",
     "status": "completed"
    },
    "tags": []
   },
   "outputs": [
    {
     "name": "stdout",
     "output_type": "stream",
     "text": [
      "/kaggle/input/unicorn-startups-cleaned/Unicorn_Clean.csv\n"
     ]
    }
   ],
   "source": [
    "# This Python 3 environment comes with many helpful analytics libraries installed\n",
    "# It is defined by the kaggle/python Docker image: https://github.com/kaggle/docker-python\n",
    "# For example, here's several helpful packages to load\n",
    "\n",
    "import numpy as np # linear algebra\n",
    "import pandas as pd # data processing, CSV file I/O (e.g. pd.read_csv)\n",
    "\n",
    "# Input data files are available in the read-only \"../input/\" directory\n",
    "# For example, running this (by clicking run or pressing Shift+Enter) will list all files under the input directory\n",
    "\n",
    "import os\n",
    "for dirname, _, filenames in os.walk('/kaggle/input'):\n",
    "    for filename in filenames:\n",
    "        print(os.path.join(dirname, filename))\n",
    "\n",
    "# You can write up to 20GB to the current directory (/kaggle/working/) that gets preserved as output when you create a version using \"Save & Run All\" \n",
    "# You can also write temporary files to /kaggle/temp/, but they won't be saved outside of the current session"
   ]
  },
  {
   "cell_type": "code",
   "execution_count": 2,
   "id": "db588fdb",
   "metadata": {
    "execution": {
     "iopub.execute_input": "2021-12-16T10:44:26.298446Z",
     "iopub.status.busy": "2021-12-16T10:44:26.296540Z",
     "iopub.status.idle": "2021-12-16T10:44:26.300893Z",
     "shell.execute_reply": "2021-12-16T10:44:26.300210Z",
     "shell.execute_reply.started": "2021-12-16T10:41:29.421284Z"
    },
    "papermill": {
     "duration": 0.032393,
     "end_time": "2021-12-16T10:44:26.301036",
     "exception": false,
     "start_time": "2021-12-16T10:44:26.268643",
     "status": "completed"
    },
    "tags": []
   },
   "outputs": [],
   "source": [
    "import pandas as pd"
   ]
  },
  {
   "cell_type": "code",
   "execution_count": 3,
   "id": "0120e3b1",
   "metadata": {
    "execution": {
     "iopub.execute_input": "2021-12-16T10:44:26.352969Z",
     "iopub.status.busy": "2021-12-16T10:44:26.352252Z",
     "iopub.status.idle": "2021-12-16T10:44:26.412034Z",
     "shell.execute_reply": "2021-12-16T10:44:26.411382Z",
     "shell.execute_reply.started": "2021-12-16T10:41:29.435439Z"
    },
    "papermill": {
     "duration": 0.086978,
     "end_time": "2021-12-16T10:44:26.412177",
     "exception": false,
     "start_time": "2021-12-16T10:44:26.325199",
     "status": "completed"
    },
    "tags": []
   },
   "outputs": [
    {
     "data": {
      "text/html": [
       "<div>\n",
       "<style scoped>\n",
       "    .dataframe tbody tr th:only-of-type {\n",
       "        vertical-align: middle;\n",
       "    }\n",
       "\n",
       "    .dataframe tbody tr th {\n",
       "        vertical-align: top;\n",
       "    }\n",
       "\n",
       "    .dataframe thead th {\n",
       "        text-align: right;\n",
       "    }\n",
       "</style>\n",
       "<table border=\"1\" class=\"dataframe\">\n",
       "  <thead>\n",
       "    <tr style=\"text-align: right;\">\n",
       "      <th></th>\n",
       "      <th>Company</th>\n",
       "      <th>Valuation ($B)</th>\n",
       "      <th>Date Joined</th>\n",
       "      <th>Country</th>\n",
       "      <th>City</th>\n",
       "      <th>Industry</th>\n",
       "      <th>Investor 1</th>\n",
       "      <th>Investor 2</th>\n",
       "      <th>Investor 3</th>\n",
       "      <th>Investor 4</th>\n",
       "    </tr>\n",
       "  </thead>\n",
       "  <tbody>\n",
       "    <tr>\n",
       "      <th>0</th>\n",
       "      <td>Bytedance</td>\n",
       "      <td>140.0</td>\n",
       "      <td>2017-04-07</td>\n",
       "      <td>China</td>\n",
       "      <td>Beijing</td>\n",
       "      <td>Artificial intelligence</td>\n",
       "      <td>Sequoia Capital China</td>\n",
       "      <td>SIG Asia Investments</td>\n",
       "      <td>Sina Weibo</td>\n",
       "      <td>Softbank Group</td>\n",
       "    </tr>\n",
       "    <tr>\n",
       "      <th>1</th>\n",
       "      <td>SpaceX</td>\n",
       "      <td>100.3</td>\n",
       "      <td>2012-12-01</td>\n",
       "      <td>United States</td>\n",
       "      <td>Hawthorne</td>\n",
       "      <td>Other</td>\n",
       "      <td>Founders Fund</td>\n",
       "      <td>Draper Fisher Jurvetson</td>\n",
       "      <td>Rothenberg Ventures</td>\n",
       "      <td>NaN</td>\n",
       "    </tr>\n",
       "    <tr>\n",
       "      <th>2</th>\n",
       "      <td>Stripe</td>\n",
       "      <td>95.0</td>\n",
       "      <td>2014-01-23</td>\n",
       "      <td>United States</td>\n",
       "      <td>San Francisco</td>\n",
       "      <td>Fintech</td>\n",
       "      <td>Khosla Ventures</td>\n",
       "      <td>LowercaseCapital</td>\n",
       "      <td>capitalG</td>\n",
       "      <td>NaN</td>\n",
       "    </tr>\n",
       "    <tr>\n",
       "      <th>3</th>\n",
       "      <td>Klarna</td>\n",
       "      <td>45.6</td>\n",
       "      <td>2011-12-12</td>\n",
       "      <td>Sweden</td>\n",
       "      <td>Stockholm</td>\n",
       "      <td>Fintech</td>\n",
       "      <td>Institutional Venture Partners</td>\n",
       "      <td>Sequoia Capital</td>\n",
       "      <td>General Atlantic</td>\n",
       "      <td>NaN</td>\n",
       "    </tr>\n",
       "    <tr>\n",
       "      <th>4</th>\n",
       "      <td>Canva</td>\n",
       "      <td>40.0</td>\n",
       "      <td>2018-01-08</td>\n",
       "      <td>Australia</td>\n",
       "      <td>Surry Hills</td>\n",
       "      <td>Internet software &amp; services</td>\n",
       "      <td>Sequoia Capital China</td>\n",
       "      <td>Blackbird Ventures</td>\n",
       "      <td>Matrix Partners</td>\n",
       "      <td>NaN</td>\n",
       "    </tr>\n",
       "  </tbody>\n",
       "</table>\n",
       "</div>"
      ],
      "text/plain": [
       "     Company  Valuation ($B) Date Joined        Country           City  \\\n",
       "0  Bytedance           140.0  2017-04-07          China        Beijing   \n",
       "1     SpaceX           100.3  2012-12-01  United States      Hawthorne   \n",
       "2     Stripe            95.0  2014-01-23  United States  San Francisco   \n",
       "3     Klarna            45.6  2011-12-12         Sweden      Stockholm   \n",
       "4      Canva            40.0  2018-01-08      Australia    Surry Hills   \n",
       "\n",
       "                       Industry                      Investor 1  \\\n",
       "0       Artificial intelligence           Sequoia Capital China   \n",
       "1                         Other                   Founders Fund   \n",
       "2                       Fintech                 Khosla Ventures   \n",
       "3                       Fintech  Institutional Venture Partners   \n",
       "4  Internet software & services           Sequoia Capital China   \n",
       "\n",
       "                Investor 2           Investor 3      Investor 4  \n",
       "0     SIG Asia Investments           Sina Weibo  Softbank Group  \n",
       "1  Draper Fisher Jurvetson  Rothenberg Ventures             NaN  \n",
       "2         LowercaseCapital             capitalG             NaN  \n",
       "3          Sequoia Capital     General Atlantic             NaN  \n",
       "4       Blackbird Ventures      Matrix Partners             NaN  "
      ]
     },
     "execution_count": 3,
     "metadata": {},
     "output_type": "execute_result"
    }
   ],
   "source": [
    "df = pd.read_csv('../input/unicorn-startups-cleaned/Unicorn_Clean.csv')\n",
    "df = df.drop('Unnamed: 0', axis=1)\n",
    "df.head()"
   ]
  },
  {
   "cell_type": "code",
   "execution_count": 4,
   "id": "396153b1",
   "metadata": {
    "execution": {
     "iopub.execute_input": "2021-12-16T10:44:26.467364Z",
     "iopub.status.busy": "2021-12-16T10:44:26.466631Z",
     "iopub.status.idle": "2021-12-16T10:44:26.471158Z",
     "shell.execute_reply": "2021-12-16T10:44:26.470441Z",
     "shell.execute_reply.started": "2021-12-16T10:41:29.472564Z"
    },
    "papermill": {
     "duration": 0.034361,
     "end_time": "2021-12-16T10:44:26.471306",
     "exception": false,
     "start_time": "2021-12-16T10:44:26.436945",
     "status": "completed"
    },
    "tags": []
   },
   "outputs": [
    {
     "data": {
      "text/plain": [
       "Index(['Company', 'Valuation ($B)', 'Date Joined', 'Country', 'City',\n",
       "       'Industry', 'Investor 1', 'Investor 2', 'Investor 3', 'Investor 4'],\n",
       "      dtype='object')"
      ]
     },
     "execution_count": 4,
     "metadata": {},
     "output_type": "execute_result"
    }
   ],
   "source": [
    "df.columns"
   ]
  },
  {
   "cell_type": "code",
   "execution_count": 5,
   "id": "5de30e29",
   "metadata": {
    "execution": {
     "iopub.execute_input": "2021-12-16T10:44:26.531041Z",
     "iopub.status.busy": "2021-12-16T10:44:26.530351Z",
     "iopub.status.idle": "2021-12-16T10:44:26.810053Z",
     "shell.execute_reply": "2021-12-16T10:44:26.810554Z",
     "shell.execute_reply.started": "2021-12-16T10:41:29.481735Z"
    },
    "papermill": {
     "duration": 0.31389,
     "end_time": "2021-12-16T10:44:26.810741",
     "exception": false,
     "start_time": "2021-12-16T10:44:26.496851",
     "status": "completed"
    },
    "tags": []
   },
   "outputs": [
    {
     "data": {
      "text/plain": [
       "<AxesSubplot:>"
      ]
     },
     "execution_count": 5,
     "metadata": {},
     "output_type": "execute_result"
    },
    {
     "data": {
      "image/png": "[encoded data removed]",
      "text/plain": [
       "<Figure size 432x288 with 1 Axes>"
      ]
     },
     "metadata": {
      "needs_background": "light"
     },
     "output_type": "display_data"
    }
   ],
   "source": [
    "df.Country.value_counts().head(10).plot(kind='bar')"
   ]
  },
  {
   "cell_type": "code",
   "execution_count": 6,
   "id": "54de9227",
   "metadata": {
    "execution": {
     "iopub.execute_input": "2021-12-16T10:44:26.872299Z",
     "iopub.status.busy": "2021-12-16T10:44:26.869822Z",
     "iopub.status.idle": "2021-12-16T10:44:27.293025Z",
     "shell.execute_reply": "2021-12-16T10:44:27.292198Z",
     "shell.execute_reply.started": "2021-12-16T10:41:29.729068Z"
    },
    "papermill": {
     "duration": 0.456093,
     "end_time": "2021-12-16T10:44:27.293173",
     "exception": false,
     "start_time": "2021-12-16T10:44:26.837080",
     "status": "completed"
    },
    "tags": []
   },
   "outputs": [
    {
     "data": {
      "text/plain": [
       "<AxesSubplot:>"
      ]
     },
     "execution_count": 6,
     "metadata": {},
     "output_type": "execute_result"
    },
    {
     "data": {
      "image/png": "[encoded data removed]",
      "text/plain": [
       "<Figure size 432x288 with 1 Axes>"
      ]
     },
     "metadata": {
      "needs_background": "light"
     },
     "output_type": "display_data"
    }
   ],
   "source": [
    "df.City.value_counts().head(20).plot(kind='bar')"
   ]
  },
  {
   "cell_type": "code",
   "execution_count": 7,
   "id": "28495c80",
   "metadata": {
    "execution": {
     "iopub.execute_input": "2021-12-16T10:44:27.352336Z",
     "iopub.status.busy": "2021-12-16T10:44:27.351342Z",
     "iopub.status.idle": "2021-12-16T10:44:27.359113Z",
     "shell.execute_reply": "2021-12-16T10:44:27.359715Z",
     "shell.execute_reply.started": "2021-12-16T10:41:30.058931Z"
    },
    "papermill": {
     "duration": 0.038789,
     "end_time": "2021-12-16T10:44:27.359893",
     "exception": false,
     "start_time": "2021-12-16T10:44:27.321104",
     "status": "completed"
    },
    "tags": []
   },
   "outputs": [
    {
     "data": {
      "text/plain": [
       "Fintech                              191\n",
       "Internet software & services         167\n",
       "E-commerce & direct-to-consumer      102\n",
       "Artificial intelligence               73\n",
       "Health                                63\n",
       "Other                                 51\n",
       "Supply chain logistics & delivery     51\n",
       "Cybersecurity                         41\n",
       "Mobile & telecommunications           37\n",
       "Data management & analytics           36\n",
       "Hardware                              32\n",
       "Auto & transportation                 29\n",
       "Edtech                                27\n",
       "Consumer & retail                     23\n",
       "Travel                                13\n",
       "Name: Industry, dtype: int64"
      ]
     },
     "execution_count": 7,
     "metadata": {},
     "output_type": "execute_result"
    }
   ],
   "source": [
    "df.Industry.value_counts()"
   ]
  },
  {
   "cell_type": "code",
   "execution_count": 8,
   "id": "f63ad17d",
   "metadata": {
    "execution": {
     "iopub.execute_input": "2021-12-16T10:44:27.420280Z",
     "iopub.status.busy": "2021-12-16T10:44:27.419292Z",
     "iopub.status.idle": "2021-12-16T10:44:27.442106Z",
     "shell.execute_reply": "2021-12-16T10:44:27.442634Z",
     "shell.execute_reply.started": "2021-12-16T10:41:30.068604Z"
    },
    "papermill": {
     "duration": 0.054909,
     "end_time": "2021-12-16T10:44:27.442808",
     "exception": false,
     "start_time": "2021-12-16T10:44:27.387899",
     "status": "completed"
    },
    "tags": []
   },
   "outputs": [
    {
     "data": {
      "text/html": [
       "<div>\n",
       "<style scoped>\n",
       "    .dataframe tbody tr th:only-of-type {\n",
       "        vertical-align: middle;\n",
       "    }\n",
       "\n",
       "    .dataframe tbody tr th {\n",
       "        vertical-align: top;\n",
       "    }\n",
       "\n",
       "    .dataframe thead th {\n",
       "        text-align: right;\n",
       "    }\n",
       "</style>\n",
       "<table border=\"1\" class=\"dataframe\">\n",
       "  <thead>\n",
       "    <tr style=\"text-align: right;\">\n",
       "      <th></th>\n",
       "      <th>Company</th>\n",
       "      <th>Valuation ($B)</th>\n",
       "      <th>Date Joined</th>\n",
       "      <th>Country</th>\n",
       "      <th>City</th>\n",
       "      <th>Industry</th>\n",
       "      <th>Investor 1</th>\n",
       "      <th>Investor 2</th>\n",
       "      <th>Investor 3</th>\n",
       "      <th>Investor 4</th>\n",
       "    </tr>\n",
       "  </thead>\n",
       "  <tbody>\n",
       "    <tr>\n",
       "      <th>0</th>\n",
       "      <td>Bytedance</td>\n",
       "      <td>140.00</td>\n",
       "      <td>2017-04-07</td>\n",
       "      <td>China</td>\n",
       "      <td>Beijing</td>\n",
       "      <td>Artificial intelligence</td>\n",
       "      <td>Sequoia Capital China</td>\n",
       "      <td>SIG Asia Investments</td>\n",
       "      <td>Sina Weibo</td>\n",
       "      <td>Softbank Group</td>\n",
       "    </tr>\n",
       "    <tr>\n",
       "      <th>6</th>\n",
       "      <td>Databricks</td>\n",
       "      <td>38.00</td>\n",
       "      <td>2019-02-05</td>\n",
       "      <td>United States</td>\n",
       "      <td>San Francisco</td>\n",
       "      <td>Data management &amp; analytics</td>\n",
       "      <td>Andreessen Horowitz</td>\n",
       "      <td>New Enterprise Associates</td>\n",
       "      <td>Battery Ventures</td>\n",
       "      <td>NaN</td>\n",
       "    </tr>\n",
       "    <tr>\n",
       "      <th>24</th>\n",
       "      <td>Faire</td>\n",
       "      <td>12.40</td>\n",
       "      <td>2019-10-30</td>\n",
       "      <td>United States</td>\n",
       "      <td>San Francisco</td>\n",
       "      <td>Artificial intelligence</td>\n",
       "      <td>Khosla Ventures</td>\n",
       "      <td>Forerunner Ventures</td>\n",
       "      <td>Sequoia Capital</td>\n",
       "      <td>NaN</td>\n",
       "    </tr>\n",
       "    <tr>\n",
       "      <th>26</th>\n",
       "      <td>SenseTime</td>\n",
       "      <td>12.00</td>\n",
       "      <td>2017-07-11</td>\n",
       "      <td>China</td>\n",
       "      <td>Shanghai</td>\n",
       "      <td>Artificial intelligence</td>\n",
       "      <td>Star VC</td>\n",
       "      <td>IDG Capital</td>\n",
       "      <td>Infore Capital</td>\n",
       "      <td>Alibaba Group</td>\n",
       "    </tr>\n",
       "    <tr>\n",
       "      <th>33</th>\n",
       "      <td>Celonis</td>\n",
       "      <td>11.00</td>\n",
       "      <td>2018-06-26</td>\n",
       "      <td>Germany</td>\n",
       "      <td>Munich</td>\n",
       "      <td>Data management &amp; analytics</td>\n",
       "      <td>Accel</td>\n",
       "      <td>83North</td>\n",
       "      <td>NaN</td>\n",
       "      <td>NaN</td>\n",
       "    </tr>\n",
       "    <tr>\n",
       "      <th>71</th>\n",
       "      <td>Scale AI</td>\n",
       "      <td>7.30</td>\n",
       "      <td>2019-08-05</td>\n",
       "      <td>United States</td>\n",
       "      <td>San Francisco</td>\n",
       "      <td>Artificial intelligence</td>\n",
       "      <td>Accel</td>\n",
       "      <td>Y Combinator</td>\n",
       "      <td>Index Ventures</td>\n",
       "      <td>NaN</td>\n",
       "    </tr>\n",
       "    <tr>\n",
       "      <th>72</th>\n",
       "      <td>Argo AI</td>\n",
       "      <td>7.25</td>\n",
       "      <td>2019-07-12</td>\n",
       "      <td>United States</td>\n",
       "      <td>Pittsburgh</td>\n",
       "      <td>Artificial intelligence</td>\n",
       "      <td>Volkswagen Group</td>\n",
       "      <td>Ford Autonomous Vehicles</td>\n",
       "      <td>NaN</td>\n",
       "      <td>NaN</td>\n",
       "    </tr>\n",
       "    <tr>\n",
       "      <th>73</th>\n",
       "      <td>Gong</td>\n",
       "      <td>7.25</td>\n",
       "      <td>2020-08-12</td>\n",
       "      <td>United States</td>\n",
       "      <td>Palo Alto</td>\n",
       "      <td>Artificial intelligence</td>\n",
       "      <td>Norwest Venture Partners</td>\n",
       "      <td>Next World Capital</td>\n",
       "      <td>Wing Venture Capital</td>\n",
       "      <td>NaN</td>\n",
       "    </tr>\n",
       "    <tr>\n",
       "      <th>78</th>\n",
       "      <td>Automation Anywhere</td>\n",
       "      <td>6.80</td>\n",
       "      <td>2018-07-02</td>\n",
       "      <td>United States</td>\n",
       "      <td>San Jose</td>\n",
       "      <td>Artificial intelligence</td>\n",
       "      <td>General Atlantic</td>\n",
       "      <td>Goldman Sachs</td>\n",
       "      <td>New Enterprise Associates</td>\n",
       "      <td>NaN</td>\n",
       "    </tr>\n",
       "    <tr>\n",
       "      <th>85</th>\n",
       "      <td>DataRobot</td>\n",
       "      <td>6.30</td>\n",
       "      <td>2019-07-29</td>\n",
       "      <td>United States</td>\n",
       "      <td>Boston</td>\n",
       "      <td>Artificial intelligence</td>\n",
       "      <td>New Enterprise Associates</td>\n",
       "      <td>Accomplice</td>\n",
       "      <td>IA Ventures</td>\n",
       "      <td>NaN</td>\n",
       "    </tr>\n",
       "    <tr>\n",
       "      <th>103</th>\n",
       "      <td>FiveTran</td>\n",
       "      <td>5.60</td>\n",
       "      <td>2020-06-30</td>\n",
       "      <td>United States</td>\n",
       "      <td>Oakland</td>\n",
       "      <td>Data management &amp; analytics</td>\n",
       "      <td>Matrix Partners</td>\n",
       "      <td>Andreessen Horowitz</td>\n",
       "      <td>General Catalyst</td>\n",
       "      <td>NaN</td>\n",
       "    </tr>\n",
       "    <tr>\n",
       "      <th>104</th>\n",
       "      <td>Pony.ai</td>\n",
       "      <td>5.30</td>\n",
       "      <td>2018-07-11</td>\n",
       "      <td>United States</td>\n",
       "      <td>Fremont</td>\n",
       "      <td>Artificial intelligence</td>\n",
       "      <td>Sequoia Capital China</td>\n",
       "      <td>IDG Capital</td>\n",
       "      <td>DCM Ventures</td>\n",
       "      <td>NaN</td>\n",
       "    </tr>\n",
       "    <tr>\n",
       "      <th>107</th>\n",
       "      <td>Collibra</td>\n",
       "      <td>5.25</td>\n",
       "      <td>2019-01-29</td>\n",
       "      <td>Belgium</td>\n",
       "      <td>Brussels</td>\n",
       "      <td>Data management &amp; analytics</td>\n",
       "      <td>Index Ventures</td>\n",
       "      <td>Battery Ventures</td>\n",
       "      <td>ICONIQ Capital</td>\n",
       "      <td>NaN</td>\n",
       "    </tr>\n",
       "    <tr>\n",
       "      <th>118</th>\n",
       "      <td>Horizon Robotics</td>\n",
       "      <td>5.00</td>\n",
       "      <td>2019-02-27</td>\n",
       "      <td>China</td>\n",
       "      <td>Beijing</td>\n",
       "      <td>Artificial intelligence</td>\n",
       "      <td>Hillhouse Capital Management</td>\n",
       "      <td>Linear Venture</td>\n",
       "      <td>Morningside Venture Capital</td>\n",
       "      <td>NaN</td>\n",
       "    </tr>\n",
       "    <tr>\n",
       "      <th>122</th>\n",
       "      <td>SambaNova Systems</td>\n",
       "      <td>5.00</td>\n",
       "      <td>2021-04-13</td>\n",
       "      <td>United States</td>\n",
       "      <td>Palo Alto</td>\n",
       "      <td>Data management &amp; analytics</td>\n",
       "      <td>Walden International</td>\n",
       "      <td>Google Ventures</td>\n",
       "      <td>Intel Capital</td>\n",
       "      <td>NaN</td>\n",
       "    </tr>\n",
       "    <tr>\n",
       "      <th>128</th>\n",
       "      <td>Anduril</td>\n",
       "      <td>4.60</td>\n",
       "      <td>2019-09-11</td>\n",
       "      <td>United States</td>\n",
       "      <td>Irvine</td>\n",
       "      <td>Artificial intelligence</td>\n",
       "      <td>Andreessen Horowitz</td>\n",
       "      <td>Founders Fund</td>\n",
       "      <td>Revolution Ventures</td>\n",
       "      <td>NaN</td>\n",
       "    </tr>\n",
       "    <tr>\n",
       "      <th>150</th>\n",
       "      <td>Dataminr</td>\n",
       "      <td>4.10</td>\n",
       "      <td>2018-06-04</td>\n",
       "      <td>United States</td>\n",
       "      <td>New York</td>\n",
       "      <td>Artificial intelligence</td>\n",
       "      <td>Venrock</td>\n",
       "      <td>Institutional Venture Partners</td>\n",
       "      <td>Goldman Sachs</td>\n",
       "      <td>NaN</td>\n",
       "    </tr>\n",
       "    <tr>\n",
       "      <th>155</th>\n",
       "      <td>MEGVII</td>\n",
       "      <td>4.00</td>\n",
       "      <td>2017-10-31</td>\n",
       "      <td>China</td>\n",
       "      <td>Beijing</td>\n",
       "      <td>Artificial intelligence</td>\n",
       "      <td>Ant Financial Services Group</td>\n",
       "      <td>Russia-China Investment Fund</td>\n",
       "      <td>Foxconn Technology Company</td>\n",
       "      <td>NaN</td>\n",
       "    </tr>\n",
       "    <tr>\n",
       "      <th>167</th>\n",
       "      <td>Rubrik</td>\n",
       "      <td>4.00</td>\n",
       "      <td>2017-04-28</td>\n",
       "      <td>United States</td>\n",
       "      <td>Palo Alto</td>\n",
       "      <td>Data management &amp; analytics</td>\n",
       "      <td>Greylock Partners</td>\n",
       "      <td>Lightspeed Venture Partners</td>\n",
       "      <td>Khosla Ventures</td>\n",
       "      <td>NaN</td>\n",
       "    </tr>\n",
       "    <tr>\n",
       "      <th>181</th>\n",
       "      <td>Cohesity</td>\n",
       "      <td>3.70</td>\n",
       "      <td>2018-06-11</td>\n",
       "      <td>United States</td>\n",
       "      <td>San Jose</td>\n",
       "      <td>Data management &amp; analytics</td>\n",
       "      <td>SoftBank Group</td>\n",
       "      <td>Sequoia Capital</td>\n",
       "      <td>Wing Venture Capital</td>\n",
       "      <td>NaN</td>\n",
       "    </tr>\n",
       "  </tbody>\n",
       "</table>\n",
       "</div>"
      ],
      "text/plain": [
       "                 Company  Valuation ($B) Date Joined        Country  \\\n",
       "0              Bytedance          140.00  2017-04-07          China   \n",
       "6             Databricks           38.00  2019-02-05  United States   \n",
       "24                 Faire           12.40  2019-10-30  United States   \n",
       "26             SenseTime           12.00  2017-07-11          China   \n",
       "33               Celonis           11.00  2018-06-26        Germany   \n",
       "71              Scale AI            7.30  2019-08-05  United States   \n",
       "72               Argo AI            7.25  2019-07-12  United States   \n",
       "73                  Gong            7.25  2020-08-12  United States   \n",
       "78   Automation Anywhere            6.80  2018-07-02  United States   \n",
       "85             DataRobot            6.30  2019-07-29  United States   \n",
       "103             FiveTran            5.60  2020-06-30  United States   \n",
       "104              Pony.ai            5.30  2018-07-11  United States   \n",
       "107             Collibra            5.25  2019-01-29        Belgium   \n",
       "118     Horizon Robotics            5.00  2019-02-27          China   \n",
       "122    SambaNova Systems            5.00  2021-04-13  United States   \n",
       "128              Anduril            4.60  2019-09-11  United States   \n",
       "150             Dataminr            4.10  2018-06-04  United States   \n",
       "155               MEGVII            4.00  2017-10-31          China   \n",
       "167               Rubrik            4.00  2017-04-28  United States   \n",
       "181             Cohesity            3.70  2018-06-11  United States   \n",
       "\n",
       "              City                     Industry                    Investor 1  \\\n",
       "0          Beijing      Artificial intelligence         Sequoia Capital China   \n",
       "6    San Francisco  Data management & analytics           Andreessen Horowitz   \n",
       "24   San Francisco      Artificial intelligence               Khosla Ventures   \n",
       "26        Shanghai      Artificial intelligence                       Star VC   \n",
       "33          Munich  Data management & analytics                         Accel   \n",
       "71   San Francisco      Artificial intelligence                         Accel   \n",
       "72      Pittsburgh      Artificial intelligence              Volkswagen Group   \n",
       "73       Palo Alto      Artificial intelligence      Norwest Venture Partners   \n",
       "78        San Jose      Artificial intelligence              General Atlantic   \n",
       "85          Boston      Artificial intelligence     New Enterprise Associates   \n",
       "103        Oakland  Data management & analytics               Matrix Partners   \n",
       "104        Fremont      Artificial intelligence         Sequoia Capital China   \n",
       "107       Brussels  Data management & analytics                Index Ventures   \n",
       "118        Beijing      Artificial intelligence  Hillhouse Capital Management   \n",
       "122      Palo Alto  Data management & analytics          Walden International   \n",
       "128         Irvine      Artificial intelligence           Andreessen Horowitz   \n",
       "150       New York      Artificial intelligence                       Venrock   \n",
       "155        Beijing      Artificial intelligence  Ant Financial Services Group   \n",
       "167      Palo Alto  Data management & analytics             Greylock Partners   \n",
       "181       San Jose  Data management & analytics                SoftBank Group   \n",
       "\n",
       "                         Investor 2                   Investor 3  \\\n",
       "0              SIG Asia Investments                   Sina Weibo   \n",
       "6         New Enterprise Associates             Battery Ventures   \n",
       "24              Forerunner Ventures              Sequoia Capital   \n",
       "26                      IDG Capital               Infore Capital   \n",
       "33                          83North                          NaN   \n",
       "71                     Y Combinator               Index Ventures   \n",
       "72         Ford Autonomous Vehicles                          NaN   \n",
       "73               Next World Capital         Wing Venture Capital   \n",
       "78                    Goldman Sachs    New Enterprise Associates   \n",
       "85                       Accomplice                  IA Ventures   \n",
       "103             Andreessen Horowitz             General Catalyst   \n",
       "104                     IDG Capital                 DCM Ventures   \n",
       "107                Battery Ventures               ICONIQ Capital   \n",
       "118                  Linear Venture  Morningside Venture Capital   \n",
       "122                 Google Ventures                Intel Capital   \n",
       "128                   Founders Fund          Revolution Ventures   \n",
       "150  Institutional Venture Partners                Goldman Sachs   \n",
       "155    Russia-China Investment Fund   Foxconn Technology Company   \n",
       "167     Lightspeed Venture Partners              Khosla Ventures   \n",
       "181                 Sequoia Capital         Wing Venture Capital   \n",
       "\n",
       "         Investor 4  \n",
       "0    Softbank Group  \n",
       "6               NaN  \n",
       "24              NaN  \n",
       "26    Alibaba Group  \n",
       "33              NaN  \n",
       "71              NaN  \n",
       "72              NaN  \n",
       "73              NaN  \n",
       "78              NaN  \n",
       "85              NaN  \n",
       "103             NaN  \n",
       "104             NaN  \n",
       "107             NaN  \n",
       "118             NaN  \n",
       "122             NaN  \n",
       "128             NaN  \n",
       "150             NaN  \n",
       "155             NaN  \n",
       "167             NaN  \n",
       "181             NaN  "
      ]
     },
     "execution_count": 8,
     "metadata": {},
     "output_type": "execute_result"
    }
   ],
   "source": [
    "data_df = df[df.Industry.isin(['Artificial intelligence','Data management & analytics'])]\n",
    "data_df.head(20)"
   ]
  },
  {
   "cell_type": "code",
   "execution_count": 9,
   "id": "9c69ea7c",
   "metadata": {
    "execution": {
     "iopub.execute_input": "2021-12-16T10:44:27.503665Z",
     "iopub.status.busy": "2021-12-16T10:44:27.502704Z",
     "iopub.status.idle": "2021-12-16T10:44:27.509912Z",
     "shell.execute_reply": "2021-12-16T10:44:27.510352Z",
     "shell.execute_reply.started": "2021-12-16T10:41:30.099752Z"
    },
    "papermill": {
     "duration": 0.038942,
     "end_time": "2021-12-16T10:44:27.510523",
     "exception": false,
     "start_time": "2021-12-16T10:44:27.471581",
     "status": "completed"
    },
    "tags": []
   },
   "outputs": [
    {
     "data": {
      "text/plain": [
       "Beijing          10\n",
       "San Francisco    10\n",
       "New York          9\n",
       "Shanghai          5\n",
       "Mountain View     4\n",
       "Palo Alto         4\n",
       "Shenzhen          4\n",
       "San Jose          3\n",
       "Boston            3\n",
       "Sunnyvale         3\n",
       "San Mateo         2\n",
       "Chicago           2\n",
       "Singapore         2\n",
       "London            2\n",
       "Tel Aviv          2\n",
       "Name: City, dtype: int64"
      ]
     },
     "execution_count": 9,
     "metadata": {},
     "output_type": "execute_result"
    }
   ],
   "source": [
    "data_df.City.value_counts().head(15)"
   ]
  },
  {
   "cell_type": "code",
   "execution_count": 10,
   "id": "eb0ba0c3",
   "metadata": {
    "execution": {
     "iopub.execute_input": "2021-12-16T10:44:27.571882Z",
     "iopub.status.busy": "2021-12-16T10:44:27.570915Z",
     "iopub.status.idle": "2021-12-16T10:44:27.578718Z",
     "shell.execute_reply": "2021-12-16T10:44:27.578056Z",
     "shell.execute_reply.started": "2021-12-16T10:41:30.113812Z"
    },
    "papermill": {
     "duration": 0.03969,
     "end_time": "2021-12-16T10:44:27.578857",
     "exception": false,
     "start_time": "2021-12-16T10:44:27.539167",
     "status": "completed"
    },
    "tags": []
   },
   "outputs": [
    {
     "data": {
      "text/plain": [
       "Artificial intelligence        73\n",
       "Data management & analytics    36\n",
       "Name: Industry, dtype: int64"
      ]
     },
     "execution_count": 10,
     "metadata": {},
     "output_type": "execute_result"
    }
   ],
   "source": [
    "data_df.Industry.value_counts()"
   ]
  },
  {
   "cell_type": "code",
   "execution_count": 11,
   "id": "0849f270",
   "metadata": {
    "execution": {
     "iopub.execute_input": "2021-12-16T10:44:27.645175Z",
     "iopub.status.busy": "2021-12-16T10:44:27.644292Z",
     "iopub.status.idle": "2021-12-16T10:44:27.648192Z",
     "shell.execute_reply": "2021-12-16T10:44:27.647670Z",
     "shell.execute_reply.started": "2021-12-16T10:41:30.128309Z"
    },
    "papermill": {
     "duration": 0.040087,
     "end_time": "2021-12-16T10:44:27.648329",
     "exception": false,
     "start_time": "2021-12-16T10:44:27.608242",
     "status": "completed"
    },
    "tags": []
   },
   "outputs": [
    {
     "data": {
      "text/plain": [
       "0                  Bytedance\n",
       "118         Horizon Robotics\n",
       "155                   MEGVII\n",
       "359                4Paradigm\n",
       "455         Jusfoun Big Data\n",
       "618                    Aibee\n",
       "643                 Unisound\n",
       "644    Mininglamp Technology\n",
       "753                  Momenta\n",
       "791              AInnovation\n",
       "Name: Company, dtype: object"
      ]
     },
     "execution_count": 11,
     "metadata": {},
     "output_type": "execute_result"
    }
   ],
   "source": [
    "data_df[data_df.City=='Beijing']['Company']"
   ]
  },
  {
   "cell_type": "code",
   "execution_count": 12,
   "id": "9d65636f",
   "metadata": {
    "execution": {
     "iopub.execute_input": "2021-12-16T10:44:27.713795Z",
     "iopub.status.busy": "2021-12-16T10:44:27.712722Z",
     "iopub.status.idle": "2021-12-16T10:44:27.715103Z",
     "shell.execute_reply": "2021-12-16T10:44:27.715759Z",
     "shell.execute_reply.started": "2021-12-16T10:41:30.141856Z"
    },
    "papermill": {
     "duration": 0.038141,
     "end_time": "2021-12-16T10:44:27.715942",
     "exception": false,
     "start_time": "2021-12-16T10:44:27.677801",
     "status": "completed"
    },
    "tags": []
   },
   "outputs": [],
   "source": [
    "india_df = df[df.Country=='India']"
   ]
  },
  {
   "cell_type": "code",
   "execution_count": 13,
   "id": "284edaea",
   "metadata": {
    "execution": {
     "iopub.execute_input": "2021-12-16T10:44:27.781139Z",
     "iopub.status.busy": "2021-12-16T10:44:27.780162Z",
     "iopub.status.idle": "2021-12-16T10:44:27.788812Z",
     "shell.execute_reply": "2021-12-16T10:44:27.788245Z",
     "shell.execute_reply.started": "2021-12-16T10:41:30.153533Z"
    },
    "papermill": {
     "duration": 0.041888,
     "end_time": "2021-12-16T10:44:27.788976",
     "exception": false,
     "start_time": "2021-12-16T10:44:27.747088",
     "status": "completed"
    },
    "tags": []
   },
   "outputs": [
    {
     "data": {
      "text/plain": [
       "Bengaluru      25\n",
       "Gurgaon         7\n",
       "Mumbai          5\n",
       "Gurugram        3\n",
       "New Delhi       2\n",
       "Pune            2\n",
       "Noida           1\n",
       "Faridabad       1\n",
       "Thane           1\n",
       "Bangalore       1\n",
       "Chennai         1\n",
       "Jaipur          1\n",
       "Maharashtra     1\n",
       "Name: City, dtype: int64"
      ]
     },
     "execution_count": 13,
     "metadata": {},
     "output_type": "execute_result"
    }
   ],
   "source": [
    "india_df.City.value_counts()"
   ]
  },
  {
   "cell_type": "code",
   "execution_count": 14,
   "id": "40393170",
   "metadata": {
    "execution": {
     "iopub.execute_input": "2021-12-16T10:44:27.856645Z",
     "iopub.status.busy": "2021-12-16T10:44:27.855937Z",
     "iopub.status.idle": "2021-12-16T10:44:27.858589Z",
     "shell.execute_reply": "2021-12-16T10:44:27.859091Z",
     "shell.execute_reply.started": "2021-12-16T10:41:30.169791Z"
    },
    "papermill": {
     "duration": 0.040625,
     "end_time": "2021-12-16T10:44:27.859258",
     "exception": false,
     "start_time": "2021-12-16T10:44:27.818633",
     "status": "completed"
    },
    "tags": []
   },
   "outputs": [
    {
     "data": {
      "text/plain": [
       "Fintech                              12\n",
       "E-commerce & direct-to-consumer      12\n",
       "Internet software & services          8\n",
       "Supply chain logistics & delivery     6\n",
       "Edtech                                5\n",
       "Auto & transportation                 2\n",
       "Health                                2\n",
       "Other                                 2\n",
       "Travel                                1\n",
       "Mobile & telecommunications           1\n",
       "Name: Industry, dtype: int64"
      ]
     },
     "execution_count": 14,
     "metadata": {},
     "output_type": "execute_result"
    }
   ],
   "source": [
    "india_df.Industry.value_counts()"
   ]
  },
  {
   "cell_type": "code",
   "execution_count": 15,
   "id": "a575f7ab",
   "metadata": {
    "execution": {
     "iopub.execute_input": "2021-12-16T10:44:27.924951Z",
     "iopub.status.busy": "2021-12-16T10:44:27.923977Z",
     "iopub.status.idle": "2021-12-16T10:44:27.927321Z",
     "shell.execute_reply": "2021-12-16T10:44:27.927864Z",
     "shell.execute_reply.started": "2021-12-16T10:41:30.187354Z"
    },
    "papermill": {
     "duration": 0.039041,
     "end_time": "2021-12-16T10:44:27.928047",
     "exception": false,
     "start_time": "2021-12-16T10:44:27.889006",
     "status": "completed"
    },
    "tags": []
   },
   "outputs": [
    {
     "data": {
      "text/plain": [
       "(51, 10)"
      ]
     },
     "execution_count": 15,
     "metadata": {},
     "output_type": "execute_result"
    }
   ],
   "source": [
    "india_df.shape"
   ]
  },
  {
   "cell_type": "code",
   "execution_count": 16,
   "id": "beaaca3c",
   "metadata": {
    "execution": {
     "iopub.execute_input": "2021-12-16T10:44:27.993702Z",
     "iopub.status.busy": "2021-12-16T10:44:27.992737Z",
     "iopub.status.idle": "2021-12-16T10:44:27.999764Z",
     "shell.execute_reply": "2021-12-16T10:44:28.000291Z",
     "shell.execute_reply.started": "2021-12-16T10:41:30.200806Z"
    },
    "papermill": {
     "duration": 0.041047,
     "end_time": "2021-12-16T10:44:28.000492",
     "exception": false,
     "start_time": "2021-12-16T10:44:27.959445",
     "status": "completed"
    },
    "tags": []
   },
   "outputs": [
    {
     "data": {
      "text/plain": [
       "Fintech                              12\n",
       "E-commerce & direct-to-consumer      12\n",
       "Internet software & services          8\n",
       "Supply chain logistics & delivery     6\n",
       "Edtech                                5\n",
       "Auto & transportation                 2\n",
       "Health                                2\n",
       "Other                                 2\n",
       "Travel                                1\n",
       "Mobile & telecommunications           1\n",
       "Name: Industry, dtype: int64"
      ]
     },
     "execution_count": 16,
     "metadata": {},
     "output_type": "execute_result"
    }
   ],
   "source": [
    "india_df.Industry.value_counts()"
   ]
  },
  {
   "cell_type": "code",
   "execution_count": 17,
   "id": "309cc633",
   "metadata": {
    "execution": {
     "iopub.execute_input": "2021-12-16T10:44:28.086894Z",
     "iopub.status.busy": "2021-12-16T10:44:28.086210Z",
     "iopub.status.idle": "2021-12-16T10:44:28.089253Z",
     "shell.execute_reply": "2021-12-16T10:44:28.089818Z",
     "shell.execute_reply.started": "2021-12-16T10:41:30.216848Z"
    },
    "papermill": {
     "duration": 0.057626,
     "end_time": "2021-12-16T10:44:28.090002",
     "exception": false,
     "start_time": "2021-12-16T10:44:28.032376",
     "status": "completed"
    },
    "tags": []
   },
   "outputs": [
    {
     "data": {
      "text/html": [
       "<div>\n",
       "<style scoped>\n",
       "    .dataframe tbody tr th:only-of-type {\n",
       "        vertical-align: middle;\n",
       "    }\n",
       "\n",
       "    .dataframe tbody tr th {\n",
       "        vertical-align: top;\n",
       "    }\n",
       "\n",
       "    .dataframe thead th {\n",
       "        text-align: right;\n",
       "    }\n",
       "</style>\n",
       "<table border=\"1\" class=\"dataframe\">\n",
       "  <thead>\n",
       "    <tr style=\"text-align: right;\">\n",
       "      <th></th>\n",
       "      <th>Company</th>\n",
       "      <th>Valuation ($B)</th>\n",
       "      <th>Industry</th>\n",
       "      <th>Date Joined</th>\n",
       "    </tr>\n",
       "  </thead>\n",
       "  <tbody>\n",
       "    <tr>\n",
       "      <th>12</th>\n",
       "      <td>BYJU's</td>\n",
       "      <td>21.00</td>\n",
       "      <td>Edtech</td>\n",
       "      <td>2017-07-25</td>\n",
       "    </tr>\n",
       "    <tr>\n",
       "      <th>53</th>\n",
       "      <td>OYO Rooms</td>\n",
       "      <td>9.60</td>\n",
       "      <td>Travel</td>\n",
       "      <td>2018-09-25</td>\n",
       "    </tr>\n",
       "    <tr>\n",
       "      <th>62</th>\n",
       "      <td>Dream11</td>\n",
       "      <td>8.00</td>\n",
       "      <td>Internet software &amp; services</td>\n",
       "      <td>2019-04-09</td>\n",
       "    </tr>\n",
       "    <tr>\n",
       "      <th>80</th>\n",
       "      <td>National Stock Exchange of India</td>\n",
       "      <td>6.50</td>\n",
       "      <td>Fintech</td>\n",
       "      <td>2020-07-01</td>\n",
       "    </tr>\n",
       "    <tr>\n",
       "      <th>83</th>\n",
       "      <td>Ola Cabs</td>\n",
       "      <td>7.50</td>\n",
       "      <td>Auto &amp; transportation</td>\n",
       "      <td>2014-10-27</td>\n",
       "    </tr>\n",
       "    <tr>\n",
       "      <th>115</th>\n",
       "      <td>Swiggy</td>\n",
       "      <td>5.50</td>\n",
       "      <td>Supply chain logistics &amp; delivery</td>\n",
       "      <td>2018-06-21</td>\n",
       "    </tr>\n",
       "    <tr>\n",
       "      <th>126</th>\n",
       "      <td>Meesho</td>\n",
       "      <td>4.90</td>\n",
       "      <td>Internet software &amp; services</td>\n",
       "      <td>2021-04-05</td>\n",
       "    </tr>\n",
       "    <tr>\n",
       "      <th>153</th>\n",
       "      <td>CRED</td>\n",
       "      <td>4.01</td>\n",
       "      <td>Fintech</td>\n",
       "      <td>2021-04-06</td>\n",
       "    </tr>\n",
       "    <tr>\n",
       "      <th>193</th>\n",
       "      <td>Digit Insurance</td>\n",
       "      <td>3.50</td>\n",
       "      <td>Fintech</td>\n",
       "      <td>2021-01-15</td>\n",
       "    </tr>\n",
       "    <tr>\n",
       "      <th>199</th>\n",
       "      <td>Unacademy</td>\n",
       "      <td>3.44</td>\n",
       "      <td>Edtech</td>\n",
       "      <td>2020-09-02</td>\n",
       "    </tr>\n",
       "    <tr>\n",
       "      <th>215</th>\n",
       "      <td>Eruditus Executive Education</td>\n",
       "      <td>3.20</td>\n",
       "      <td>Edtech</td>\n",
       "      <td>2021-08-12</td>\n",
       "    </tr>\n",
       "    <tr>\n",
       "      <th>221</th>\n",
       "      <td>Udaan</td>\n",
       "      <td>3.10</td>\n",
       "      <td>Supply chain logistics &amp; delivery</td>\n",
       "      <td>2018-09-04</td>\n",
       "    </tr>\n",
       "    <tr>\n",
       "      <th>231</th>\n",
       "      <td>Delhivery</td>\n",
       "      <td>3.00</td>\n",
       "      <td>Supply chain logistics &amp; delivery</td>\n",
       "      <td>2019-02-27</td>\n",
       "    </tr>\n",
       "    <tr>\n",
       "      <th>234</th>\n",
       "      <td>Pine Labs</td>\n",
       "      <td>3.00</td>\n",
       "      <td>Fintech</td>\n",
       "      <td>2020-01-24</td>\n",
       "    </tr>\n",
       "    <tr>\n",
       "      <th>236</th>\n",
       "      <td>Razorpay</td>\n",
       "      <td>3.00</td>\n",
       "      <td>Fintech</td>\n",
       "      <td>2020-10-11</td>\n",
       "    </tr>\n",
       "    <tr>\n",
       "      <th>245</th>\n",
       "      <td>ShareChat</td>\n",
       "      <td>3.00</td>\n",
       "      <td>Internet software &amp; services</td>\n",
       "      <td>2021-04-08</td>\n",
       "    </tr>\n",
       "    <tr>\n",
       "      <th>252</th>\n",
       "      <td>Ola Electric Mobility</td>\n",
       "      <td>3.00</td>\n",
       "      <td>Auto &amp; transportation</td>\n",
       "      <td>2019-07-02</td>\n",
       "    </tr>\n",
       "    <tr>\n",
       "      <th>257</th>\n",
       "      <td>Groww</td>\n",
       "      <td>3.00</td>\n",
       "      <td>Fintech</td>\n",
       "      <td>2021-04-07</td>\n",
       "    </tr>\n",
       "    <tr>\n",
       "      <th>265</th>\n",
       "      <td>OfBusiness</td>\n",
       "      <td>3.00</td>\n",
       "      <td>E-commerce &amp; direct-to-consumer</td>\n",
       "      <td>2021-07-31</td>\n",
       "    </tr>\n",
       "    <tr>\n",
       "      <th>266</th>\n",
       "      <td>BharatPe</td>\n",
       "      <td>2.85</td>\n",
       "      <td>Fintech</td>\n",
       "      <td>2021-07-30</td>\n",
       "    </tr>\n",
       "    <tr>\n",
       "      <th>292</th>\n",
       "      <td>Lenskart</td>\n",
       "      <td>2.50</td>\n",
       "      <td>E-commerce &amp; direct-to-consumer</td>\n",
       "      <td>2019-12-20</td>\n",
       "    </tr>\n",
       "    <tr>\n",
       "      <th>293</th>\n",
       "      <td>Infra.Market</td>\n",
       "      <td>2.50</td>\n",
       "      <td>E-commerce &amp; direct-to-consumer</td>\n",
       "      <td>2021-02-25</td>\n",
       "    </tr>\n",
       "    <tr>\n",
       "      <th>299</th>\n",
       "      <td>Mobile Premier League</td>\n",
       "      <td>2.45</td>\n",
       "      <td>Internet software &amp; services</td>\n",
       "      <td>2021-09-15</td>\n",
       "    </tr>\n",
       "    <tr>\n",
       "      <th>304</th>\n",
       "      <td>PolicyBazaar</td>\n",
       "      <td>2.40</td>\n",
       "      <td>Fintech</td>\n",
       "      <td>2019-05-06</td>\n",
       "    </tr>\n",
       "    <tr>\n",
       "      <th>339</th>\n",
       "      <td>FirstCry</td>\n",
       "      <td>2.10</td>\n",
       "      <td>E-commerce &amp; direct-to-consumer</td>\n",
       "      <td>2020-02-07</td>\n",
       "    </tr>\n",
       "    <tr>\n",
       "      <th>343</th>\n",
       "      <td>Urban Company</td>\n",
       "      <td>2.10</td>\n",
       "      <td>E-commerce &amp; direct-to-consumer</td>\n",
       "      <td>2021-04-27</td>\n",
       "    </tr>\n",
       "    <tr>\n",
       "      <th>420</th>\n",
       "      <td>CoinSwitch Kuber</td>\n",
       "      <td>1.90</td>\n",
       "      <td>Fintech</td>\n",
       "      <td>2021-10-06</td>\n",
       "    </tr>\n",
       "    <tr>\n",
       "      <th>432</th>\n",
       "      <td>Spinny</td>\n",
       "      <td>1.75</td>\n",
       "      <td>E-commerce &amp; direct-to-consumer</td>\n",
       "      <td>2021-11-24</td>\n",
       "    </tr>\n",
       "    <tr>\n",
       "      <th>434</th>\n",
       "      <td>Cars24</td>\n",
       "      <td>1.84</td>\n",
       "      <td>E-commerce &amp; direct-to-consumer</td>\n",
       "      <td>2020-11-24</td>\n",
       "    </tr>\n",
       "    <tr>\n",
       "      <th>523</th>\n",
       "      <td>CureFit</td>\n",
       "      <td>1.50</td>\n",
       "      <td>Health</td>\n",
       "      <td>2021-11-10</td>\n",
       "    </tr>\n",
       "    <tr>\n",
       "      <th>545</th>\n",
       "      <td>Rebel Foods</td>\n",
       "      <td>1.40</td>\n",
       "      <td>E-commerce &amp; direct-to-consumer</td>\n",
       "      <td>2021-10-07</td>\n",
       "    </tr>\n",
       "    <tr>\n",
       "      <th>547</th>\n",
       "      <td>Five Star Business Finance</td>\n",
       "      <td>1.40</td>\n",
       "      <td>Other</td>\n",
       "      <td>2021-03-26</td>\n",
       "    </tr>\n",
       "    <tr>\n",
       "      <th>631</th>\n",
       "      <td>UpGrad</td>\n",
       "      <td>1.20</td>\n",
       "      <td>Edtech</td>\n",
       "      <td>2021-08-09</td>\n",
       "    </tr>\n",
       "    <tr>\n",
       "      <th>637</th>\n",
       "      <td>CarDekho</td>\n",
       "      <td>1.20</td>\n",
       "      <td>E-commerce &amp; direct-to-consumer</td>\n",
       "      <td>2021-10-13</td>\n",
       "    </tr>\n",
       "    <tr>\n",
       "      <th>638</th>\n",
       "      <td>MyGlamm</td>\n",
       "      <td>1.20</td>\n",
       "      <td>E-commerce &amp; direct-to-consumer</td>\n",
       "      <td>2021-11-10</td>\n",
       "    </tr>\n",
       "    <tr>\n",
       "      <th>640</th>\n",
       "      <td>Pristyn Care</td>\n",
       "      <td>1.20</td>\n",
       "      <td>Health</td>\n",
       "      <td>2021-12-07</td>\n",
       "    </tr>\n",
       "    <tr>\n",
       "      <th>681</th>\n",
       "      <td>CoinDCX</td>\n",
       "      <td>1.10</td>\n",
       "      <td>Fintech</td>\n",
       "      <td>2021-08-10</td>\n",
       "    </tr>\n",
       "    <tr>\n",
       "      <th>683</th>\n",
       "      <td>apna</td>\n",
       "      <td>1.10</td>\n",
       "      <td>Internet software &amp; services</td>\n",
       "      <td>2021-09-15</td>\n",
       "    </tr>\n",
       "    <tr>\n",
       "      <th>686</th>\n",
       "      <td>Acko General Insurance</td>\n",
       "      <td>1.10</td>\n",
       "      <td>Fintech</td>\n",
       "      <td>2021-10-18</td>\n",
       "    </tr>\n",
       "    <tr>\n",
       "      <th>695</th>\n",
       "      <td>Rivigo</td>\n",
       "      <td>1.07</td>\n",
       "      <td>Supply chain logistics &amp; delivery</td>\n",
       "      <td>2019-07-11</td>\n",
       "    </tr>\n",
       "    <tr>\n",
       "      <th>707</th>\n",
       "      <td>Snapdeal</td>\n",
       "      <td>1.00</td>\n",
       "      <td>E-commerce &amp; direct-to-consumer</td>\n",
       "      <td>2014-05-21</td>\n",
       "    </tr>\n",
       "    <tr>\n",
       "      <th>709</th>\n",
       "      <td>InMobi</td>\n",
       "      <td>1.00</td>\n",
       "      <td>Mobile &amp; telecommunications</td>\n",
       "      <td>2014-12-02</td>\n",
       "    </tr>\n",
       "    <tr>\n",
       "      <th>794</th>\n",
       "      <td>DailyHunt</td>\n",
       "      <td>1.00</td>\n",
       "      <td>Internet software &amp; services</td>\n",
       "      <td>2020-12-22</td>\n",
       "    </tr>\n",
       "    <tr>\n",
       "      <th>859</th>\n",
       "      <td>Grofers</td>\n",
       "      <td>1.01</td>\n",
       "      <td>Supply chain logistics &amp; delivery</td>\n",
       "      <td>2021-06-30</td>\n",
       "    </tr>\n",
       "    <tr>\n",
       "      <th>871</th>\n",
       "      <td>BlackBuck</td>\n",
       "      <td>1.00</td>\n",
       "      <td>Supply chain logistics &amp; delivery</td>\n",
       "      <td>2021-07-22</td>\n",
       "    </tr>\n",
       "    <tr>\n",
       "      <th>880</th>\n",
       "      <td>Zetwerk</td>\n",
       "      <td>1.33</td>\n",
       "      <td>Internet software &amp; services</td>\n",
       "      <td>2021-08-20</td>\n",
       "    </tr>\n",
       "    <tr>\n",
       "      <th>898</th>\n",
       "      <td>Vedantu</td>\n",
       "      <td>1.00</td>\n",
       "      <td>Edtech</td>\n",
       "      <td>2021-09-29</td>\n",
       "    </tr>\n",
       "    <tr>\n",
       "      <th>901</th>\n",
       "      <td>Licious</td>\n",
       "      <td>1.00</td>\n",
       "      <td>E-commerce &amp; direct-to-consumer</td>\n",
       "      <td>2021-10-05</td>\n",
       "    </tr>\n",
       "    <tr>\n",
       "      <th>920</th>\n",
       "      <td>Mensa Brands</td>\n",
       "      <td>1.00</td>\n",
       "      <td>Other</td>\n",
       "      <td>2021-11-16</td>\n",
       "    </tr>\n",
       "    <tr>\n",
       "      <th>926</th>\n",
       "      <td>NoBroker</td>\n",
       "      <td>1.00</td>\n",
       "      <td>Internet software &amp; services</td>\n",
       "      <td>2021-11-23</td>\n",
       "    </tr>\n",
       "    <tr>\n",
       "      <th>927</th>\n",
       "      <td>Slice</td>\n",
       "      <td>1.00</td>\n",
       "      <td>Fintech</td>\n",
       "      <td>2021-11-28</td>\n",
       "    </tr>\n",
       "  </tbody>\n",
       "</table>\n",
       "</div>"
      ],
      "text/plain": [
       "                              Company  Valuation ($B)  \\\n",
       "12                             BYJU's           21.00   \n",
       "53                          OYO Rooms            9.60   \n",
       "62                            Dream11            8.00   \n",
       "80   National Stock Exchange of India            6.50   \n",
       "83                           Ola Cabs            7.50   \n",
       "115                            Swiggy            5.50   \n",
       "126                            Meesho            4.90   \n",
       "153                              CRED            4.01   \n",
       "193                   Digit Insurance            3.50   \n",
       "199                         Unacademy            3.44   \n",
       "215      Eruditus Executive Education            3.20   \n",
       "221                             Udaan            3.10   \n",
       "231                         Delhivery            3.00   \n",
       "234                         Pine Labs            3.00   \n",
       "236                          Razorpay            3.00   \n",
       "245                         ShareChat            3.00   \n",
       "252             Ola Electric Mobility            3.00   \n",
       "257                             Groww            3.00   \n",
       "265                        OfBusiness            3.00   \n",
       "266                          BharatPe            2.85   \n",
       "292                          Lenskart            2.50   \n",
       "293                      Infra.Market            2.50   \n",
       "299             Mobile Premier League            2.45   \n",
       "304                      PolicyBazaar            2.40   \n",
       "339                          FirstCry            2.10   \n",
       "343                     Urban Company            2.10   \n",
       "420                  CoinSwitch Kuber            1.90   \n",
       "432                            Spinny            1.75   \n",
       "434                            Cars24            1.84   \n",
       "523                           CureFit            1.50   \n",
       "545                       Rebel Foods            1.40   \n",
       "547        Five Star Business Finance            1.40   \n",
       "631                            UpGrad            1.20   \n",
       "637                          CarDekho            1.20   \n",
       "638                           MyGlamm            1.20   \n",
       "640                      Pristyn Care            1.20   \n",
       "681                           CoinDCX            1.10   \n",
       "683                              apna            1.10   \n",
       "686            Acko General Insurance            1.10   \n",
       "695                            Rivigo            1.07   \n",
       "707                          Snapdeal            1.00   \n",
       "709                            InMobi            1.00   \n",
       "794                         DailyHunt            1.00   \n",
       "859                           Grofers            1.01   \n",
       "871                         BlackBuck            1.00   \n",
       "880                           Zetwerk            1.33   \n",
       "898                           Vedantu            1.00   \n",
       "901                           Licious            1.00   \n",
       "920                      Mensa Brands            1.00   \n",
       "926                          NoBroker            1.00   \n",
       "927                             Slice            1.00   \n",
       "\n",
       "                              Industry Date Joined  \n",
       "12                              Edtech  2017-07-25  \n",
       "53                              Travel  2018-09-25  \n",
       "62        Internet software & services  2019-04-09  \n",
       "80                             Fintech  2020-07-01  \n",
       "83               Auto & transportation  2014-10-27  \n",
       "115  Supply chain logistics & delivery  2018-06-21  \n",
       "126       Internet software & services  2021-04-05  \n",
       "153                            Fintech  2021-04-06  \n",
       "193                            Fintech  2021-01-15  \n",
       "199                             Edtech  2020-09-02  \n",
       "215                             Edtech  2021-08-12  \n",
       "221  Supply chain logistics & delivery  2018-09-04  \n",
       "231  Supply chain logistics & delivery  2019-02-27  \n",
       "234                            Fintech  2020-01-24  \n",
       "236                            Fintech  2020-10-11  \n",
       "245       Internet software & services  2021-04-08  \n",
       "252              Auto & transportation  2019-07-02  \n",
       "257                            Fintech  2021-04-07  \n",
       "265    E-commerce & direct-to-consumer  2021-07-31  \n",
       "266                            Fintech  2021-07-30  \n",
       "292    E-commerce & direct-to-consumer  2019-12-20  \n",
       "293    E-commerce & direct-to-consumer  2021-02-25  \n",
       "299       Internet software & services  2021-09-15  \n",
       "304                            Fintech  2019-05-06  \n",
       "339    E-commerce & direct-to-consumer  2020-02-07  \n",
       "343    E-commerce & direct-to-consumer  2021-04-27  \n",
       "420                            Fintech  2021-10-06  \n",
       "432    E-commerce & direct-to-consumer  2021-11-24  \n",
       "434    E-commerce & direct-to-consumer  2020-11-24  \n",
       "523                             Health  2021-11-10  \n",
       "545    E-commerce & direct-to-consumer  2021-10-07  \n",
       "547                              Other  2021-03-26  \n",
       "631                             Edtech  2021-08-09  \n",
       "637    E-commerce & direct-to-consumer  2021-10-13  \n",
       "638    E-commerce & direct-to-consumer  2021-11-10  \n",
       "640                             Health  2021-12-07  \n",
       "681                            Fintech  2021-08-10  \n",
       "683       Internet software & services  2021-09-15  \n",
       "686                            Fintech  2021-10-18  \n",
       "695  Supply chain logistics & delivery  2019-07-11  \n",
       "707    E-commerce & direct-to-consumer  2014-05-21  \n",
       "709        Mobile & telecommunications  2014-12-02  \n",
       "794       Internet software & services  2020-12-22  \n",
       "859  Supply chain logistics & delivery  2021-06-30  \n",
       "871  Supply chain logistics & delivery  2021-07-22  \n",
       "880       Internet software & services  2021-08-20  \n",
       "898                             Edtech  2021-09-29  \n",
       "901    E-commerce & direct-to-consumer  2021-10-05  \n",
       "920                              Other  2021-11-16  \n",
       "926       Internet software & services  2021-11-23  \n",
       "927                            Fintech  2021-11-28  "
      ]
     },
     "execution_count": 17,
     "metadata": {},
     "output_type": "execute_result"
    }
   ],
   "source": [
    "india_df[['Company','Valuation ($B)','Industry','Date Joined']]"
   ]
  },
  {
   "cell_type": "code",
   "execution_count": 18,
   "id": "da2674fb",
   "metadata": {
    "execution": {
     "iopub.execute_input": "2021-12-16T10:44:28.158193Z",
     "iopub.status.busy": "2021-12-16T10:44:28.157199Z",
     "iopub.status.idle": "2021-12-16T10:44:28.165218Z",
     "shell.execute_reply": "2021-12-16T10:44:28.165767Z",
     "shell.execute_reply.started": "2021-12-16T10:41:30.251033Z"
    },
    "papermill": {
     "duration": 0.044032,
     "end_time": "2021-12-16T10:44:28.165953",
     "exception": false,
     "start_time": "2021-12-16T10:44:28.121921",
     "status": "completed"
    },
    "tags": []
   },
   "outputs": [
    {
     "data": {
      "text/plain": [
       "80     National Stock Exchange of India\n",
       "153                                CRED\n",
       "193                     Digit Insurance\n",
       "234                           Pine Labs\n",
       "236                            Razorpay\n",
       "257                               Groww\n",
       "266                            BharatPe\n",
       "304                        PolicyBazaar\n",
       "420                    CoinSwitch Kuber\n",
       "681                             CoinDCX\n",
       "686              Acko General Insurance\n",
       "927                               Slice\n",
       "Name: Company, dtype: object"
      ]
     },
     "execution_count": 18,
     "metadata": {},
     "output_type": "execute_result"
    }
   ],
   "source": [
    "india_df[india_df.Industry == 'Fintech']['Company']"
   ]
  },
  {
   "cell_type": "code",
   "execution_count": 19,
   "id": "3900c1a3",
   "metadata": {
    "execution": {
     "iopub.execute_input": "2021-12-16T10:44:28.234798Z",
     "iopub.status.busy": "2021-12-16T10:44:28.234075Z",
     "iopub.status.idle": "2021-12-16T10:44:28.241238Z",
     "shell.execute_reply": "2021-12-16T10:44:28.241789Z",
     "shell.execute_reply.started": "2021-12-16T10:41:30.267716Z"
    },
    "papermill": {
     "duration": 0.043476,
     "end_time": "2021-12-16T10:44:28.241971",
     "exception": false,
     "start_time": "2021-12-16T10:44:28.198495",
     "status": "completed"
    },
    "tags": []
   },
   "outputs": [
    {
     "data": {
      "text/plain": [
       "12                           BYJU's\n",
       "199                       Unacademy\n",
       "215    Eruditus Executive Education\n",
       "631                          UpGrad\n",
       "898                         Vedantu\n",
       "Name: Company, dtype: object"
      ]
     },
     "execution_count": 19,
     "metadata": {},
     "output_type": "execute_result"
    }
   ],
   "source": [
    "india_df[india_df.Industry == 'Edtech']['Company']"
   ]
  },
  {
   "cell_type": "code",
   "execution_count": 20,
   "id": "49339199",
   "metadata": {
    "execution": {
     "iopub.execute_input": "2021-12-16T10:44:28.310014Z",
     "iopub.status.busy": "2021-12-16T10:44:28.309258Z",
     "iopub.status.idle": "2021-12-16T10:44:28.317660Z",
     "shell.execute_reply": "2021-12-16T10:44:28.317129Z",
     "shell.execute_reply.started": "2021-12-16T10:41:30.280111Z"
    },
    "papermill": {
     "duration": 0.043507,
     "end_time": "2021-12-16T10:44:28.317812",
     "exception": false,
     "start_time": "2021-12-16T10:44:28.274305",
     "status": "completed"
    },
    "tags": []
   },
   "outputs": [
    {
     "data": {
      "text/plain": [
       "62                   Dream11\n",
       "126                   Meesho\n",
       "245                ShareChat\n",
       "299    Mobile Premier League\n",
       "683                     apna\n",
       "794                DailyHunt\n",
       "880                  Zetwerk\n",
       "926                 NoBroker\n",
       "Name: Company, dtype: object"
      ]
     },
     "execution_count": 20,
     "metadata": {},
     "output_type": "execute_result"
    }
   ],
   "source": [
    "india_df[india_df.Industry == 'Internet software & services']['Company']"
   ]
  },
  {
   "cell_type": "code",
   "execution_count": 21,
   "id": "6a0d4d95",
   "metadata": {
    "execution": {
     "iopub.execute_input": "2021-12-16T10:44:28.403805Z",
     "iopub.status.busy": "2021-12-16T10:44:28.403091Z",
     "iopub.status.idle": "2021-12-16T10:44:28.405972Z",
     "shell.execute_reply": "2021-12-16T10:44:28.406503Z",
     "shell.execute_reply.started": "2021-12-16T10:41:30.294279Z"
    },
    "papermill": {
     "duration": 0.055749,
     "end_time": "2021-12-16T10:44:28.406693",
     "exception": false,
     "start_time": "2021-12-16T10:44:28.350944",
     "status": "completed"
    },
    "tags": []
   },
   "outputs": [
    {
     "data": {
      "text/html": [
       "<div>\n",
       "<style scoped>\n",
       "    .dataframe tbody tr th:only-of-type {\n",
       "        vertical-align: middle;\n",
       "    }\n",
       "\n",
       "    .dataframe tbody tr th {\n",
       "        vertical-align: top;\n",
       "    }\n",
       "\n",
       "    .dataframe thead th {\n",
       "        text-align: right;\n",
       "    }\n",
       "</style>\n",
       "<table border=\"1\" class=\"dataframe\">\n",
       "  <thead>\n",
       "    <tr style=\"text-align: right;\">\n",
       "      <th></th>\n",
       "      <th>Company</th>\n",
       "      <th>Valuation ($B)</th>\n",
       "      <th>Date Joined</th>\n",
       "      <th>Country</th>\n",
       "      <th>City</th>\n",
       "      <th>Industry</th>\n",
       "      <th>Investor 1</th>\n",
       "      <th>Investor 2</th>\n",
       "      <th>Investor 3</th>\n",
       "      <th>Investor 4</th>\n",
       "    </tr>\n",
       "  </thead>\n",
       "  <tbody>\n",
       "    <tr>\n",
       "      <th>12</th>\n",
       "      <td>BYJU's</td>\n",
       "      <td>21.00</td>\n",
       "      <td>2017-07-25</td>\n",
       "      <td>India</td>\n",
       "      <td>Bengaluru</td>\n",
       "      <td>Edtech</td>\n",
       "      <td>Tencent Holdings</td>\n",
       "      <td>Lightspeed India Partners</td>\n",
       "      <td>Sequoia Capital India</td>\n",
       "      <td>NaN</td>\n",
       "    </tr>\n",
       "    <tr>\n",
       "      <th>83</th>\n",
       "      <td>Ola Cabs</td>\n",
       "      <td>7.50</td>\n",
       "      <td>2014-10-27</td>\n",
       "      <td>India</td>\n",
       "      <td>Bengaluru</td>\n",
       "      <td>Auto &amp; transportation</td>\n",
       "      <td>Accel Partners</td>\n",
       "      <td>SoftBank Group</td>\n",
       "      <td>Sequoia Capital</td>\n",
       "      <td>NaN</td>\n",
       "    </tr>\n",
       "    <tr>\n",
       "      <th>115</th>\n",
       "      <td>Swiggy</td>\n",
       "      <td>5.50</td>\n",
       "      <td>2018-06-21</td>\n",
       "      <td>India</td>\n",
       "      <td>Bengaluru</td>\n",
       "      <td>Supply chain logistics &amp; delivery</td>\n",
       "      <td>Accel India</td>\n",
       "      <td>SAIF Partners</td>\n",
       "      <td>Norwest Venture Partners</td>\n",
       "      <td>NaN</td>\n",
       "    </tr>\n",
       "    <tr>\n",
       "      <th>126</th>\n",
       "      <td>Meesho</td>\n",
       "      <td>4.90</td>\n",
       "      <td>2021-04-05</td>\n",
       "      <td>India</td>\n",
       "      <td>Bengaluru</td>\n",
       "      <td>Internet software &amp; services</td>\n",
       "      <td>Venture Highway</td>\n",
       "      <td>Sequoia Capital India</td>\n",
       "      <td>Prosus Ventures</td>\n",
       "      <td>NaN</td>\n",
       "    </tr>\n",
       "    <tr>\n",
       "      <th>153</th>\n",
       "      <td>CRED</td>\n",
       "      <td>4.01</td>\n",
       "      <td>2021-04-06</td>\n",
       "      <td>India</td>\n",
       "      <td>Bengaluru</td>\n",
       "      <td>Fintech</td>\n",
       "      <td>Tiger Global Management</td>\n",
       "      <td>DST Global</td>\n",
       "      <td>Sequoia Capital India</td>\n",
       "      <td>NaN</td>\n",
       "    </tr>\n",
       "  </tbody>\n",
       "</table>\n",
       "</div>"
      ],
      "text/plain": [
       "      Company  Valuation ($B) Date Joined Country       City  \\\n",
       "12     BYJU's           21.00  2017-07-25   India  Bengaluru   \n",
       "83   Ola Cabs            7.50  2014-10-27   India  Bengaluru   \n",
       "115    Swiggy            5.50  2018-06-21   India  Bengaluru   \n",
       "126    Meesho            4.90  2021-04-05   India  Bengaluru   \n",
       "153      CRED            4.01  2021-04-06   India  Bengaluru   \n",
       "\n",
       "                              Industry               Investor 1  \\\n",
       "12                              Edtech         Tencent Holdings   \n",
       "83               Auto & transportation           Accel Partners   \n",
       "115  Supply chain logistics & delivery              Accel India   \n",
       "126       Internet software & services          Venture Highway   \n",
       "153                            Fintech  Tiger Global Management   \n",
       "\n",
       "                    Investor 2                Investor 3 Investor 4  \n",
       "12   Lightspeed India Partners     Sequoia Capital India        NaN  \n",
       "83              SoftBank Group           Sequoia Capital        NaN  \n",
       "115              SAIF Partners  Norwest Venture Partners        NaN  \n",
       "126      Sequoia Capital India           Prosus Ventures        NaN  \n",
       "153                 DST Global     Sequoia Capital India        NaN  "
      ]
     },
     "execution_count": 21,
     "metadata": {},
     "output_type": "execute_result"
    }
   ],
   "source": [
    "blore_df = india_df[india_df.City.isin(['Bengaluru','Bangalore'])]\n",
    "blore_df.head()"
   ]
  },
  {
   "cell_type": "code",
   "execution_count": 22,
   "id": "789269a0",
   "metadata": {
    "execution": {
     "iopub.execute_input": "2021-12-16T10:44:28.478643Z",
     "iopub.status.busy": "2021-12-16T10:44:28.477953Z",
     "iopub.status.idle": "2021-12-16T10:44:28.482234Z",
     "shell.execute_reply": "2021-12-16T10:44:28.482721Z",
     "shell.execute_reply.started": "2021-12-16T10:41:30.317469Z"
    },
    "papermill": {
     "duration": 0.041131,
     "end_time": "2021-12-16T10:44:28.482909",
     "exception": false,
     "start_time": "2021-12-16T10:44:28.441778",
     "status": "completed"
    },
    "tags": []
   },
   "outputs": [
    {
     "data": {
      "text/plain": [
       "(26, 10)"
      ]
     },
     "execution_count": 22,
     "metadata": {},
     "output_type": "execute_result"
    }
   ],
   "source": [
    "blore_df.shape"
   ]
  },
  {
   "cell_type": "code",
   "execution_count": 23,
   "id": "cec99f3d",
   "metadata": {
    "execution": {
     "iopub.execute_input": "2021-12-16T10:44:28.555334Z",
     "iopub.status.busy": "2021-12-16T10:44:28.554401Z",
     "iopub.status.idle": "2021-12-16T10:44:28.557457Z",
     "shell.execute_reply": "2021-12-16T10:44:28.558000Z",
     "shell.execute_reply.started": "2021-12-16T10:41:30.324139Z"
    },
    "papermill": {
     "duration": 0.040821,
     "end_time": "2021-12-16T10:44:28.558192",
     "exception": false,
     "start_time": "2021-12-16T10:44:28.517371",
     "status": "completed"
    },
    "tags": []
   },
   "outputs": [],
   "source": [
    "# filter1 = df.Ind==\"CRED\"\n",
    "# filter2 = data[\"Age\"]>24\n",
    "# data.where(filter1 & filter2, inplace = True)"
   ]
  },
  {
   "cell_type": "code",
   "execution_count": 24,
   "id": "d7e80824",
   "metadata": {
    "execution": {
     "iopub.execute_input": "2021-12-16T10:44:28.634607Z",
     "iopub.status.busy": "2021-12-16T10:44:28.633934Z",
     "iopub.status.idle": "2021-12-16T10:44:28.637019Z",
     "shell.execute_reply": "2021-12-16T10:44:28.637514Z",
     "shell.execute_reply.started": "2021-12-16T10:41:30.336119Z"
    },
    "papermill": {
     "duration": 0.044572,
     "end_time": "2021-12-16T10:44:28.637718",
     "exception": false,
     "start_time": "2021-12-16T10:44:28.593146",
     "status": "completed"
    },
    "tags": []
   },
   "outputs": [
    {
     "data": {
      "text/plain": [
       "Internet software & services         7\n",
       "Fintech                              7\n",
       "Edtech                               3\n",
       "Supply chain logistics & delivery    3\n",
       "Auto & transportation                2\n",
       "Health                               1\n",
       "Mobile & telecommunications          1\n",
       "E-commerce & direct-to-consumer      1\n",
       "Other                                1\n",
       "Name: Industry, dtype: int64"
      ]
     },
     "execution_count": 24,
     "metadata": {},
     "output_type": "execute_result"
    }
   ],
   "source": [
    "blore_df.Industry.value_counts()"
   ]
  },
  {
   "cell_type": "code",
   "execution_count": 25,
   "id": "763644c0",
   "metadata": {
    "execution": {
     "iopub.execute_input": "2021-12-16T10:44:28.709518Z",
     "iopub.status.busy": "2021-12-16T10:44:28.708884Z",
     "iopub.status.idle": "2021-12-16T10:44:28.724742Z",
     "shell.execute_reply": "2021-12-16T10:44:28.725340Z",
     "shell.execute_reply.started": "2021-12-16T10:41:30.363078Z"
    },
    "papermill": {
     "duration": 0.053332,
     "end_time": "2021-12-16T10:44:28.725517",
     "exception": false,
     "start_time": "2021-12-16T10:44:28.672185",
     "status": "completed"
    },
    "tags": []
   },
   "outputs": [
    {
     "data": {
      "text/html": [
       "<div>\n",
       "<style scoped>\n",
       "    .dataframe tbody tr th:only-of-type {\n",
       "        vertical-align: middle;\n",
       "    }\n",
       "\n",
       "    .dataframe tbody tr th {\n",
       "        vertical-align: top;\n",
       "    }\n",
       "\n",
       "    .dataframe thead th {\n",
       "        text-align: right;\n",
       "    }\n",
       "</style>\n",
       "<table border=\"1\" class=\"dataframe\">\n",
       "  <thead>\n",
       "    <tr style=\"text-align: right;\">\n",
       "      <th></th>\n",
       "      <th>Company</th>\n",
       "      <th>Valuation ($B)</th>\n",
       "      <th>Industry</th>\n",
       "      <th>Date Joined</th>\n",
       "    </tr>\n",
       "  </thead>\n",
       "  <tbody>\n",
       "    <tr>\n",
       "      <th>12</th>\n",
       "      <td>BYJU's</td>\n",
       "      <td>21.00</td>\n",
       "      <td>Edtech</td>\n",
       "      <td>2017-07-25</td>\n",
       "    </tr>\n",
       "    <tr>\n",
       "      <th>83</th>\n",
       "      <td>Ola Cabs</td>\n",
       "      <td>7.50</td>\n",
       "      <td>Auto &amp; transportation</td>\n",
       "      <td>2014-10-27</td>\n",
       "    </tr>\n",
       "    <tr>\n",
       "      <th>115</th>\n",
       "      <td>Swiggy</td>\n",
       "      <td>5.50</td>\n",
       "      <td>Supply chain logistics &amp; delivery</td>\n",
       "      <td>2018-06-21</td>\n",
       "    </tr>\n",
       "    <tr>\n",
       "      <th>126</th>\n",
       "      <td>Meesho</td>\n",
       "      <td>4.90</td>\n",
       "      <td>Internet software &amp; services</td>\n",
       "      <td>2021-04-05</td>\n",
       "    </tr>\n",
       "    <tr>\n",
       "      <th>153</th>\n",
       "      <td>CRED</td>\n",
       "      <td>4.01</td>\n",
       "      <td>Fintech</td>\n",
       "      <td>2021-04-06</td>\n",
       "    </tr>\n",
       "    <tr>\n",
       "      <th>193</th>\n",
       "      <td>Digit Insurance</td>\n",
       "      <td>3.50</td>\n",
       "      <td>Fintech</td>\n",
       "      <td>2021-01-15</td>\n",
       "    </tr>\n",
       "    <tr>\n",
       "      <th>199</th>\n",
       "      <td>Unacademy</td>\n",
       "      <td>3.44</td>\n",
       "      <td>Edtech</td>\n",
       "      <td>2020-09-02</td>\n",
       "    </tr>\n",
       "    <tr>\n",
       "      <th>221</th>\n",
       "      <td>Udaan</td>\n",
       "      <td>3.10</td>\n",
       "      <td>Supply chain logistics &amp; delivery</td>\n",
       "      <td>2018-09-04</td>\n",
       "    </tr>\n",
       "    <tr>\n",
       "      <th>236</th>\n",
       "      <td>Razorpay</td>\n",
       "      <td>3.00</td>\n",
       "      <td>Fintech</td>\n",
       "      <td>2020-10-11</td>\n",
       "    </tr>\n",
       "    <tr>\n",
       "      <th>245</th>\n",
       "      <td>ShareChat</td>\n",
       "      <td>3.00</td>\n",
       "      <td>Internet software &amp; services</td>\n",
       "      <td>2021-04-08</td>\n",
       "    </tr>\n",
       "    <tr>\n",
       "      <th>252</th>\n",
       "      <td>Ola Electric Mobility</td>\n",
       "      <td>3.00</td>\n",
       "      <td>Auto &amp; transportation</td>\n",
       "      <td>2019-07-02</td>\n",
       "    </tr>\n",
       "    <tr>\n",
       "      <th>257</th>\n",
       "      <td>Groww</td>\n",
       "      <td>3.00</td>\n",
       "      <td>Fintech</td>\n",
       "      <td>2021-04-07</td>\n",
       "    </tr>\n",
       "    <tr>\n",
       "      <th>299</th>\n",
       "      <td>Mobile Premier League</td>\n",
       "      <td>2.45</td>\n",
       "      <td>Internet software &amp; services</td>\n",
       "      <td>2021-09-15</td>\n",
       "    </tr>\n",
       "    <tr>\n",
       "      <th>420</th>\n",
       "      <td>CoinSwitch Kuber</td>\n",
       "      <td>1.90</td>\n",
       "      <td>Fintech</td>\n",
       "      <td>2021-10-06</td>\n",
       "    </tr>\n",
       "    <tr>\n",
       "      <th>523</th>\n",
       "      <td>CureFit</td>\n",
       "      <td>1.50</td>\n",
       "      <td>Health</td>\n",
       "      <td>2021-11-10</td>\n",
       "    </tr>\n",
       "    <tr>\n",
       "      <th>683</th>\n",
       "      <td>apna</td>\n",
       "      <td>1.10</td>\n",
       "      <td>Internet software &amp; services</td>\n",
       "      <td>2021-09-15</td>\n",
       "    </tr>\n",
       "    <tr>\n",
       "      <th>686</th>\n",
       "      <td>Acko General Insurance</td>\n",
       "      <td>1.10</td>\n",
       "      <td>Fintech</td>\n",
       "      <td>2021-10-18</td>\n",
       "    </tr>\n",
       "    <tr>\n",
       "      <th>709</th>\n",
       "      <td>InMobi</td>\n",
       "      <td>1.00</td>\n",
       "      <td>Mobile &amp; telecommunications</td>\n",
       "      <td>2014-12-02</td>\n",
       "    </tr>\n",
       "    <tr>\n",
       "      <th>794</th>\n",
       "      <td>DailyHunt</td>\n",
       "      <td>1.00</td>\n",
       "      <td>Internet software &amp; services</td>\n",
       "      <td>2020-12-22</td>\n",
       "    </tr>\n",
       "    <tr>\n",
       "      <th>871</th>\n",
       "      <td>BlackBuck</td>\n",
       "      <td>1.00</td>\n",
       "      <td>Supply chain logistics &amp; delivery</td>\n",
       "      <td>2021-07-22</td>\n",
       "    </tr>\n",
       "    <tr>\n",
       "      <th>880</th>\n",
       "      <td>Zetwerk</td>\n",
       "      <td>1.33</td>\n",
       "      <td>Internet software &amp; services</td>\n",
       "      <td>2021-08-20</td>\n",
       "    </tr>\n",
       "    <tr>\n",
       "      <th>898</th>\n",
       "      <td>Vedantu</td>\n",
       "      <td>1.00</td>\n",
       "      <td>Edtech</td>\n",
       "      <td>2021-09-29</td>\n",
       "    </tr>\n",
       "    <tr>\n",
       "      <th>901</th>\n",
       "      <td>Licious</td>\n",
       "      <td>1.00</td>\n",
       "      <td>E-commerce &amp; direct-to-consumer</td>\n",
       "      <td>2021-10-05</td>\n",
       "    </tr>\n",
       "    <tr>\n",
       "      <th>920</th>\n",
       "      <td>Mensa Brands</td>\n",
       "      <td>1.00</td>\n",
       "      <td>Other</td>\n",
       "      <td>2021-11-16</td>\n",
       "    </tr>\n",
       "    <tr>\n",
       "      <th>926</th>\n",
       "      <td>NoBroker</td>\n",
       "      <td>1.00</td>\n",
       "      <td>Internet software &amp; services</td>\n",
       "      <td>2021-11-23</td>\n",
       "    </tr>\n",
       "    <tr>\n",
       "      <th>927</th>\n",
       "      <td>Slice</td>\n",
       "      <td>1.00</td>\n",
       "      <td>Fintech</td>\n",
       "      <td>2021-11-28</td>\n",
       "    </tr>\n",
       "  </tbody>\n",
       "</table>\n",
       "</div>"
      ],
      "text/plain": [
       "                    Company  Valuation ($B)  \\\n",
       "12                   BYJU's           21.00   \n",
       "83                 Ola Cabs            7.50   \n",
       "115                  Swiggy            5.50   \n",
       "126                  Meesho            4.90   \n",
       "153                    CRED            4.01   \n",
       "193         Digit Insurance            3.50   \n",
       "199               Unacademy            3.44   \n",
       "221                   Udaan            3.10   \n",
       "236                Razorpay            3.00   \n",
       "245               ShareChat            3.00   \n",
       "252   Ola Electric Mobility            3.00   \n",
       "257                   Groww            3.00   \n",
       "299   Mobile Premier League            2.45   \n",
       "420        CoinSwitch Kuber            1.90   \n",
       "523                 CureFit            1.50   \n",
       "683                    apna            1.10   \n",
       "686  Acko General Insurance            1.10   \n",
       "709                  InMobi            1.00   \n",
       "794               DailyHunt            1.00   \n",
       "871               BlackBuck            1.00   \n",
       "880                 Zetwerk            1.33   \n",
       "898                 Vedantu            1.00   \n",
       "901                 Licious            1.00   \n",
       "920            Mensa Brands            1.00   \n",
       "926                NoBroker            1.00   \n",
       "927                   Slice            1.00   \n",
       "\n",
       "                              Industry Date Joined  \n",
       "12                              Edtech  2017-07-25  \n",
       "83               Auto & transportation  2014-10-27  \n",
       "115  Supply chain logistics & delivery  2018-06-21  \n",
       "126       Internet software & services  2021-04-05  \n",
       "153                            Fintech  2021-04-06  \n",
       "193                            Fintech  2021-01-15  \n",
       "199                             Edtech  2020-09-02  \n",
       "221  Supply chain logistics & delivery  2018-09-04  \n",
       "236                            Fintech  2020-10-11  \n",
       "245       Internet software & services  2021-04-08  \n",
       "252              Auto & transportation  2019-07-02  \n",
       "257                            Fintech  2021-04-07  \n",
       "299       Internet software & services  2021-09-15  \n",
       "420                            Fintech  2021-10-06  \n",
       "523                             Health  2021-11-10  \n",
       "683       Internet software & services  2021-09-15  \n",
       "686                            Fintech  2021-10-18  \n",
       "709        Mobile & telecommunications  2014-12-02  \n",
       "794       Internet software & services  2020-12-22  \n",
       "871  Supply chain logistics & delivery  2021-07-22  \n",
       "880       Internet software & services  2021-08-20  \n",
       "898                             Edtech  2021-09-29  \n",
       "901    E-commerce & direct-to-consumer  2021-10-05  \n",
       "920                              Other  2021-11-16  \n",
       "926       Internet software & services  2021-11-23  \n",
       "927                            Fintech  2021-11-28  "
      ]
     },
     "execution_count": 25,
     "metadata": {},
     "output_type": "execute_result"
    }
   ],
   "source": [
    "blore_df[['Company','Valuation ($B)','Industry','Date Joined']]"
   ]
  },
  {
   "cell_type": "code",
   "execution_count": 26,
   "id": "32e953cc",
   "metadata": {
    "execution": {
     "iopub.execute_input": "2021-12-16T10:44:28.801171Z",
     "iopub.status.busy": "2021-12-16T10:44:28.800496Z",
     "iopub.status.idle": "2021-12-16T10:44:28.807664Z",
     "shell.execute_reply": "2021-12-16T10:44:28.808292Z",
     "shell.execute_reply.started": "2021-12-16T10:41:30.386766Z"
    },
    "papermill": {
     "duration": 0.046401,
     "end_time": "2021-12-16T10:44:28.808491",
     "exception": false,
     "start_time": "2021-12-16T10:44:28.762090",
     "status": "completed"
    },
    "tags": []
   },
   "outputs": [
    {
     "data": {
      "text/plain": [
       "153                      CRED\n",
       "193           Digit Insurance\n",
       "236                  Razorpay\n",
       "257                     Groww\n",
       "420          CoinSwitch Kuber\n",
       "686    Acko General Insurance\n",
       "927                     Slice\n",
       "Name: Company, dtype: object"
      ]
     },
     "execution_count": 26,
     "metadata": {},
     "output_type": "execute_result"
    }
   ],
   "source": [
    "blore_df[blore_df.Industry == 'Fintech']['Company']"
   ]
  },
  {
   "cell_type": "code",
   "execution_count": 27,
   "id": "e3e73585",
   "metadata": {
    "execution": {
     "iopub.execute_input": "2021-12-16T10:44:28.887519Z",
     "iopub.status.busy": "2021-12-16T10:44:28.886809Z",
     "iopub.status.idle": "2021-12-16T10:44:28.889412Z",
     "shell.execute_reply": "2021-12-16T10:44:28.889918Z",
     "shell.execute_reply.started": "2021-12-16T10:41:30.399381Z"
    },
    "papermill": {
     "duration": 0.045686,
     "end_time": "2021-12-16T10:44:28.890090",
     "exception": false,
     "start_time": "2021-12-16T10:44:28.844404",
     "status": "completed"
    },
    "tags": []
   },
   "outputs": [
    {
     "data": {
      "text/plain": [
       "126                   Meesho\n",
       "245                ShareChat\n",
       "299    Mobile Premier League\n",
       "683                     apna\n",
       "794                DailyHunt\n",
       "880                  Zetwerk\n",
       "926                 NoBroker\n",
       "Name: Company, dtype: object"
      ]
     },
     "execution_count": 27,
     "metadata": {},
     "output_type": "execute_result"
    }
   ],
   "source": [
    "blore_df[blore_df.Industry == 'Internet software & services']['Company']"
   ]
  },
  {
   "cell_type": "code",
   "execution_count": 28,
   "id": "e20a094f",
   "metadata": {
    "execution": {
     "iopub.execute_input": "2021-12-16T10:44:28.969464Z",
     "iopub.status.busy": "2021-12-16T10:44:28.968782Z",
     "iopub.status.idle": "2021-12-16T10:44:28.971864Z",
     "shell.execute_reply": "2021-12-16T10:44:28.972367Z",
     "shell.execute_reply.started": "2021-12-16T10:41:30.419411Z"
    },
    "papermill": {
     "duration": 0.046303,
     "end_time": "2021-12-16T10:44:28.972536",
     "exception": false,
     "start_time": "2021-12-16T10:44:28.926233",
     "status": "completed"
    },
    "tags": []
   },
   "outputs": [
    {
     "data": {
      "text/plain": [
       "12        BYJU's\n",
       "199    Unacademy\n",
       "898      Vedantu\n",
       "Name: Company, dtype: object"
      ]
     },
     "execution_count": 28,
     "metadata": {},
     "output_type": "execute_result"
    }
   ],
   "source": [
    "blore_df[blore_df.Industry == 'Edtech']['Company']"
   ]
  },
  {
   "cell_type": "code",
   "execution_count": null,
   "id": "70a3a4c5",
   "metadata": {
    "papermill": {
     "duration": 0.035885,
     "end_time": "2021-12-16T10:44:29.045039",
     "exception": false,
     "start_time": "2021-12-16T10:44:29.009154",
     "status": "completed"
    },
    "tags": []
   },
   "outputs": [],
   "source": []
  }
 ],
 "metadata": {
  "kernelspec": {
   "display_name": "Python 3",
   "language": "python",
   "name": "python3"
  },
  "language_info": {
   "codemirror_mode": {
    "name": "ipython",
    "version": 3
   },
   "file_extension": ".py",
   "mimetype": "text/x-python",
   "name": "python",
   "nbconvert_exporter": "python",
   "pygments_lexer": "ipython3",
   "version": "3.7.12"
  },
  "papermill": {
   "default_parameters": {},
   "duration": 13.595685,
   "end_time": "2021-12-16T10:44:29.691588",
   "environment_variables": {},
   "exception": null,
   "input_path": "__notebook__.ipynb",
   "output_path": "__notebook__.ipynb",
   "parameters": {},
   "start_time": "2021-12-16T10:44:16.095903",
   "version": "2.3.3"
  }
 },
 "nbformat": 4,
 "nbformat_minor": 5
}
